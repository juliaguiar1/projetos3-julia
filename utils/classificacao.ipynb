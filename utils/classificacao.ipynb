{
 "cells": [
  {
   "cell_type": "markdown",
   "metadata": {},
   "source": [
    "Iniciando a classificação do dataset Padronizado"
   ]
  },
  {
   "cell_type": "code",
   "execution_count": 175,
   "metadata": {},
   "outputs": [
    {
     "data": {
      "text/html": [
       "<div>\n",
       "<style scoped>\n",
       "    .dataframe tbody tr th:only-of-type {\n",
       "        vertical-align: middle;\n",
       "    }\n",
       "\n",
       "    .dataframe tbody tr th {\n",
       "        vertical-align: top;\n",
       "    }\n",
       "\n",
       "    .dataframe thead th {\n",
       "        text-align: right;\n",
       "    }\n",
       "</style>\n",
       "<table border=\"1\" class=\"dataframe\">\n",
       "  <thead>\n",
       "    <tr style=\"text-align: right;\">\n",
       "      <th></th>\n",
       "      <th>age_upon_outcome</th>\n",
       "      <th>animal_id_outcome</th>\n",
       "      <th>date_of_birth</th>\n",
       "      <th>age_upon_outcome_(days)</th>\n",
       "      <th>age_upon_outcome_(years)</th>\n",
       "      <th>age_upon_outcome_age_group</th>\n",
       "      <th>outcome_datetime</th>\n",
       "      <th>outcome_month</th>\n",
       "      <th>outcome_year</th>\n",
       "      <th>outcome_monthyear</th>\n",
       "      <th>...</th>\n",
       "      <th>is_mix_breed</th>\n",
       "      <th>processed_color</th>\n",
       "      <th>color_Black</th>\n",
       "      <th>color_Brown/Chocolate</th>\n",
       "      <th>color_Gray/Blue</th>\n",
       "      <th>color_Other_Colors</th>\n",
       "      <th>color_Patterned</th>\n",
       "      <th>color_Red/Orange</th>\n",
       "      <th>color_White</th>\n",
       "      <th>color_Yellow/Gold/Cream</th>\n",
       "    </tr>\n",
       "  </thead>\n",
       "  <tbody>\n",
       "    <tr>\n",
       "      <th>0</th>\n",
       "      <td>10 years</td>\n",
       "      <td>A047759</td>\n",
       "      <td>02/04/2004 00:00</td>\n",
       "      <td>3650</td>\n",
       "      <td>10.0</td>\n",
       "      <td>(7.5, 10.0]</td>\n",
       "      <td>07/04/2014 15:12</td>\n",
       "      <td>4</td>\n",
       "      <td>2014</td>\n",
       "      <td>2014-04</td>\n",
       "      <td>...</td>\n",
       "      <td>0</td>\n",
       "      <td>Tricolor</td>\n",
       "      <td>False</td>\n",
       "      <td>False</td>\n",
       "      <td>False</td>\n",
       "      <td>False</td>\n",
       "      <td>True</td>\n",
       "      <td>False</td>\n",
       "      <td>False</td>\n",
       "      <td>False</td>\n",
       "    </tr>\n",
       "    <tr>\n",
       "      <th>1</th>\n",
       "      <td>14 years</td>\n",
       "      <td>A197810</td>\n",
       "      <td>21/01/2000 00:00</td>\n",
       "      <td>5110</td>\n",
       "      <td>14.0</td>\n",
       "      <td>(12.5, 15.0]</td>\n",
       "      <td>22/12/2014 15:23</td>\n",
       "      <td>12</td>\n",
       "      <td>2014</td>\n",
       "      <td>2014-12</td>\n",
       "      <td>...</td>\n",
       "      <td>1</td>\n",
       "      <td>multi</td>\n",
       "      <td>False</td>\n",
       "      <td>False</td>\n",
       "      <td>False</td>\n",
       "      <td>True</td>\n",
       "      <td>False</td>\n",
       "      <td>False</td>\n",
       "      <td>False</td>\n",
       "      <td>False</td>\n",
       "    </tr>\n",
       "    <tr>\n",
       "      <th>2</th>\n",
       "      <td>16 years</td>\n",
       "      <td>A200922</td>\n",
       "      <td>03/10/1997 00:00</td>\n",
       "      <td>5840</td>\n",
       "      <td>16.0</td>\n",
       "      <td>(15.0, 17.5]</td>\n",
       "      <td>22/11/2013 09:44</td>\n",
       "      <td>11</td>\n",
       "      <td>2013</td>\n",
       "      <td>2013-11</td>\n",
       "      <td>...</td>\n",
       "      <td>1</td>\n",
       "      <td>multi</td>\n",
       "      <td>False</td>\n",
       "      <td>False</td>\n",
       "      <td>False</td>\n",
       "      <td>True</td>\n",
       "      <td>False</td>\n",
       "      <td>False</td>\n",
       "      <td>False</td>\n",
       "      <td>False</td>\n",
       "    </tr>\n",
       "    <tr>\n",
       "      <th>3</th>\n",
       "      <td>14 years</td>\n",
       "      <td>A208755</td>\n",
       "      <td>27/04/2000 00:00</td>\n",
       "      <td>5110</td>\n",
       "      <td>14.0</td>\n",
       "      <td>(12.5, 15.0]</td>\n",
       "      <td>17/02/2015 16:25</td>\n",
       "      <td>2</td>\n",
       "      <td>2015</td>\n",
       "      <td>2015-02</td>\n",
       "      <td>...</td>\n",
       "      <td>1</td>\n",
       "      <td>multi</td>\n",
       "      <td>False</td>\n",
       "      <td>False</td>\n",
       "      <td>False</td>\n",
       "      <td>True</td>\n",
       "      <td>False</td>\n",
       "      <td>False</td>\n",
       "      <td>False</td>\n",
       "      <td>False</td>\n",
       "    </tr>\n",
       "    <tr>\n",
       "      <th>4</th>\n",
       "      <td>17 years</td>\n",
       "      <td>A210457</td>\n",
       "      <td>01/06/1999 00:00</td>\n",
       "      <td>6205</td>\n",
       "      <td>17.0</td>\n",
       "      <td>(15.0, 17.5]</td>\n",
       "      <td>07/10/2016 12:34</td>\n",
       "      <td>10</td>\n",
       "      <td>2016</td>\n",
       "      <td>2016-10</td>\n",
       "      <td>...</td>\n",
       "      <td>0</td>\n",
       "      <td>multi</td>\n",
       "      <td>False</td>\n",
       "      <td>False</td>\n",
       "      <td>False</td>\n",
       "      <td>True</td>\n",
       "      <td>False</td>\n",
       "      <td>False</td>\n",
       "      <td>False</td>\n",
       "      <td>False</td>\n",
       "    </tr>\n",
       "  </tbody>\n",
       "</table>\n",
       "<p>5 rows × 122 columns</p>\n",
       "</div>"
      ],
      "text/plain": [
       "  age_upon_outcome animal_id_outcome     date_of_birth  \\\n",
       "0         10 years           A047759  02/04/2004 00:00   \n",
       "1         14 years           A197810  21/01/2000 00:00   \n",
       "2         16 years           A200922  03/10/1997 00:00   \n",
       "3         14 years           A208755  27/04/2000 00:00   \n",
       "4         17 years           A210457  01/06/1999 00:00   \n",
       "\n",
       "   age_upon_outcome_(days)  age_upon_outcome_(years)  \\\n",
       "0                     3650                      10.0   \n",
       "1                     5110                      14.0   \n",
       "2                     5840                      16.0   \n",
       "3                     5110                      14.0   \n",
       "4                     6205                      17.0   \n",
       "\n",
       "  age_upon_outcome_age_group  outcome_datetime  outcome_month  outcome_year  \\\n",
       "0               (7.5, 10.0]   07/04/2014 15:12              4          2014   \n",
       "1               (12.5, 15.0]  22/12/2014 15:23             12          2014   \n",
       "2               (15.0, 17.5]  22/11/2013 09:44             11          2013   \n",
       "3               (12.5, 15.0]  17/02/2015 16:25              2          2015   \n",
       "4               (15.0, 17.5]  07/10/2016 12:34             10          2016   \n",
       "\n",
       "  outcome_monthyear  ...  is_mix_breed  processed_color  color_Black  \\\n",
       "0           2014-04  ...             0         Tricolor        False   \n",
       "1           2014-12  ...             1            multi        False   \n",
       "2           2013-11  ...             1            multi        False   \n",
       "3           2015-02  ...             1            multi        False   \n",
       "4           2016-10  ...             0            multi        False   \n",
       "\n",
       "   color_Brown/Chocolate color_Gray/Blue color_Other_Colors color_Patterned  \\\n",
       "0                  False           False              False            True   \n",
       "1                  False           False               True           False   \n",
       "2                  False           False               True           False   \n",
       "3                  False           False               True           False   \n",
       "4                  False           False               True           False   \n",
       "\n",
       "  color_Red/Orange color_White color_Yellow/Gold/Cream  \n",
       "0            False       False                   False  \n",
       "1            False       False                   False  \n",
       "2            False       False                   False  \n",
       "3            False       False                   False  \n",
       "4            False       False                   False  \n",
       "\n",
       "[5 rows x 122 columns]"
      ]
     },
     "execution_count": 175,
     "metadata": {},
     "output_type": "execute_result"
    }
   ],
   "source": [
    "import pandas as pd\n",
    "import numpy as np\n",
    "from sklearn.model_selection import train_test_split\n",
    "from sklearn.ensemble import RandomForestClassifier\n",
    "from sklearn.svm import SVC\n",
    "from sklearn.metrics import classification_report, confusion_matrix\n",
    "\n",
    "df_scaled = pd.read_parquet('../data/scaled_ACC_INTAKES_OUTCOMES.parquet')\n",
    "\n",
    "df_scaled.head()\n"
   ]
  },
  {
   "cell_type": "markdown",
   "metadata": {},
   "source": [
    "Denifir as features que serão utilizadas na classificação do dataset Padronizado."
   ]
  },
  {
   "cell_type": "code",
   "execution_count": 176,
   "metadata": {},
   "outputs": [],
   "source": [
    "X = df_scaled[[\n",
    "    \"dob_year_scaled\", \"age_upon_intake_(days)_scaled\", \"age_upon_intake_(years)_scaled\", \"intake_month_scaled\",\n",
    "    \"intake_year_scaled\", \"age_upon_outcome_(days)_scaled\", \"age_upon_outcome_(years)_scaled\",\n",
    "    \"outcome_month_scaled\", \"outcome_year_scaled\", \"time_in_shelter_days_scaled\",\n",
    "    \"sex_upon_outcome_Intact Female\", \"sex_upon_outcome_Intact Male  \", \"sex_upon_outcome_Neutered Male\",\n",
    "    \"sex_upon_outcome_Spayed Female\", \"sex_upon_outcome_Unknown      \", \"animal_type_Bir\", \"animal_type_Cat\",\n",
    "    \"animal_type_Dog\", \"animal_type_Oth\", \"intake_condition_Aged   \", \"intake_condition_Feral  \",\n",
    "    \"intake_condition_Injured\", \"intake_condition_Normal \", \"intake_condition_Nursing\", \"intake_condition_Other  \",\n",
    "    \"intake_condition_Pregnan\", \"intake_condition_Sick   \", \"intake_type_Euthanasia Request\",\n",
    "    \"intake_type_Owner Surrender   \", \"intake_type_Public Assist     \", \"intake_type_Stray             \",\n",
    "    \"intake_type_Wildlife          \", \"sex_upon_intake_Intact Female\", \"sex_upon_intake_Intact Male  \",\n",
    "    \"sex_upon_intake_Neutered Male\", \"sex_upon_intake_Spayed Female\", \"sex_upon_intake_Unknown      \",\n",
    "    \"age_upon_outcome_age_group_encoded\", \"age_upon_intake_age_group_encoded\", \"is_mix_breed\", \"color_Black\",\n",
    "    \"color_Brown/Chocolate\", \"color_Gray/Blue\", \"color_Other_Colors\", \"color_Patterned\", \"color_Red/Orange\",\n",
    "    \"color_White\", \"color_Yellow/Gold/Cream\"\n",
    "]]"
   ]
  },
  {
   "cell_type": "markdown",
   "metadata": {},
   "source": [
    "Definindo variáveis alvo:"
   ]
  },
  {
   "cell_type": "code",
   "execution_count": 177,
   "metadata": {},
   "outputs": [],
   "source": [
    "y = df_scaled[[\"outcome_type_Adoption       \", \"outcome_type_Euthanasia     \", \"outcome_type_Transfer       \", \"outcome_type_Died           \",\n",
    "               \"outcome_type_Missing        \", \"outcome_type_Return to Owner\"]]\n"
   ]
  },
  {
   "cell_type": "markdown",
   "metadata": {},
   "source": [
    "Verificando o balanceamento entre as classes alvo:"
   ]
  },
  {
   "cell_type": "code",
   "execution_count": 178,
   "metadata": {},
   "outputs": [
    {
     "name": "stdout",
     "output_type": "stream",
     "text": [
      "Quantidade de animais adotados:\n",
      "Adotados: 5806\n",
      "Não adotados: 28552\n",
      "\n",
      "Quantidade de animais eutanasiados:\n",
      "Eutanasiados: 5907\n",
      "Não eutanasiados: 28451\n",
      "\n",
      "Quantidade de animais transferidos:\n",
      "Transferidos: 22044\n",
      "Não transferidos: 12314\n",
      "\n",
      "Quantidade de animais mortos:\n",
      "Mortos: 573\n",
      "Não mortos: 33785\n",
      "\n",
      "Quantidade de animais devolvidos aos donos:\n",
      "Devolvidos aos donos: 1\n",
      "Não devolvidos aos donos: 34357\n",
      "\n",
      "Quantidade de animais desaparecidos:\n",
      "Desaparecidos: 27\n",
      "Não desaparecidos: 34331\n"
     ]
    }
   ],
   "source": [
    "count_adoption = y[\"outcome_type_Adoption       \"].value_counts()\n",
    "count_euthanasia = y[\"outcome_type_Euthanasia     \"].value_counts()\n",
    "count_transfer = y[\"outcome_type_Transfer       \"].value_counts()\n",
    "count_died = y[\"outcome_type_Died           \"].value_counts()\n",
    "count_return_owner = y[\"outcome_type_Return to Owner\"].value_counts()\n",
    "count_missing = y[\"outcome_type_Missing        \"].value_counts()\n",
    "\n",
    "print(\"Quantidade de animais adotados:\")\n",
    "print(f\"Adotados: {count_adoption[True]}\")\n",
    "print(f\"Não adotados: {count_adoption[False]}\\n\")\n",
    "\n",
    "print(\"Quantidade de animais eutanasiados:\")\n",
    "print(f\"Eutanasiados: {count_euthanasia[True]}\")\n",
    "print(f\"Não eutanasiados: {count_euthanasia[False]}\\n\")\n",
    "\n",
    "print(\"Quantidade de animais transferidos:\")\n",
    "print(f\"Transferidos: {count_transfer[True]}\")\n",
    "print(f\"Não transferidos: {count_transfer[False]}\\n\")\n",
    "\n",
    "print(\"Quantidade de animais mortos:\")\n",
    "print(f\"Mortos: {count_died[True]}\")\n",
    "print(f\"Não mortos: {count_died[False]}\\n\")\n",
    "\n",
    "print(\"Quantidade de animais devolvidos aos donos:\")\n",
    "print(f\"Devolvidos aos donos: {count_return_owner[True]}\")\n",
    "print(f\"Não devolvidos aos donos: {count_return_owner[False]}\\n\")\n",
    "\n",
    "print(\"Quantidade de animais desaparecidos:\")\n",
    "print(f\"Desaparecidos: {count_missing[True]}\")\n",
    "print(f\"Não desaparecidos: {count_missing[False]}\")\n",
    "\n",
    "\n"
   ]
  },
  {
   "cell_type": "markdown",
   "metadata": {},
   "source": [
    "Há um grande desequilíbrio entre as classes, como os casos de \"Devolvidos aos donos\" e \"Desaparecidos\", que possuem muito poucas instâncias."
   ]
  },
  {
   "cell_type": "markdown",
   "metadata": {},
   "source": [
    "Como a representação de instancias \"Devolvidos ao dono\" e \"Desaparecidos\" são poucos, iremos unir essas classes e formar a classe \"Outros\", indicando outro tipo de saída."
   ]
  },
  {
   "cell_type": "code",
   "execution_count": 179,
   "metadata": {},
   "outputs": [
    {
     "name": "stdout",
     "output_type": "stream",
     "text": [
      "Nova distribuição das classes:\n",
      "outcome_type_Adoption            5806\n",
      "outcome_type_Euthanasia          5907\n",
      "outcome_type_Transfer           22044\n",
      "outcome_type_Died                 573\n",
      "outcome_type_Other                 28\n",
      "dtype: int64\n"
     ]
    }
   ],
   "source": [
    "# Criar uma cópia do DataFrame original para evitar o SettingWithCopyWarning\n",
    "y = y.copy()\n",
    "\n",
    "# Criar a nova coluna \"outcome_type_Other\" de forma segura\n",
    "y['outcome_type_Other'] = y['outcome_type_Missing        '] | y['outcome_type_Return to Owner']\n",
    "\n",
    "# Remover as colunas originais \"outcome_type_Missing\" e \"outcome_type_Return to Owner\"\n",
    "y = y.drop(columns=['outcome_type_Missing        ', 'outcome_type_Return to Owner'])\n",
    "\n",
    "# Verificar a nova distribuição de classes após a modificação\n",
    "print(\"Nova distribuição das classes:\")\n",
    "print(y.sum())\n",
    "\n"
   ]
  },
  {
   "cell_type": "markdown",
   "metadata": {},
   "source": [
    "Divisão do Dataset em Treino e Teste:\n",
    "Vamos dividir o dataset usando uma proporção de 70% para treino e 30% para teste."
   ]
  },
  {
   "cell_type": "code",
   "execution_count": 180,
   "metadata": {},
   "outputs": [
    {
     "name": "stdout",
     "output_type": "stream",
     "text": [
      "Distribuição das classes no conjunto de treino:\n",
      "outcome_type_Adoption            4064\n",
      "outcome_type_Euthanasia          4135\n",
      "outcome_type_Transfer           15430\n",
      "outcome_type_Died                 401\n",
      "outcome_type_Other                 20\n",
      "dtype: int64\n",
      "\n",
      "Distribuição das classes no conjunto de teste:\n",
      "outcome_type_Adoption           1742\n",
      "outcome_type_Euthanasia         1772\n",
      "outcome_type_Transfer           6614\n",
      "outcome_type_Died                172\n",
      "outcome_type_Other                 8\n",
      "dtype: int64\n"
     ]
    }
   ],
   "source": [
    "from sklearn.model_selection import train_test_split\n",
    "\n",
    "# Dividir o dataset em treino (70%) e teste (30%)\n",
    "X_train, X_test, y_train, y_test = train_test_split(X, y, test_size=0.3, random_state=42, stratify=y)\n",
    "\n",
    "# Verificar a distribuição das classes no conjunto de treino e teste\n",
    "print(\"Distribuição das classes no conjunto de treino:\")\n",
    "print(y_train.sum())\n",
    "print(\"\\nDistribuição das classes no conjunto de teste:\")\n",
    "print(y_test.sum())\n",
    "\n"
   ]
  },
  {
   "cell_type": "markdown",
   "metadata": {},
   "source": [
    "Aplicação do SMOTE no conjunto de treino"
   ]
  },
  {
   "cell_type": "code",
   "execution_count": 181,
   "metadata": {},
   "outputs": [
    {
     "name": "stdout",
     "output_type": "stream",
     "text": [
      "Nova distribuição após o SMOTE (conjunto de treino):\n",
      "outcome_type_Adoption           15430\n",
      "outcome_type_Transfer           15430\n",
      "outcome_type_Euthanasia         15430\n",
      "outcome_type_Died               15430\n",
      "outcome_type_Other              15430\n",
      "Name: count, dtype: int64\n"
     ]
    }
   ],
   "source": [
    "# Converter as colunas de 'y' para uma única coluna que representa a classe de saída\n",
    "y_train_combined = y_train.idxmax(axis=1)\n",
    "y_test_combined = y_test.idxmax(axis=1)\n",
    "\n",
    "# Aplicar o SMOTE no conjunto de treino\n",
    "from imblearn.over_sampling import SMOTE\n",
    "\n",
    "smote = SMOTE(random_state=42)\n",
    "X_train_res, y_train_res = smote.fit_resample(X_train, y_train_combined)\n",
    "\n",
    "# Verificar a nova distribuição após o SMOTE\n",
    "print(\"Nova distribuição após o SMOTE (conjunto de treino):\")\n",
    "print(pd.Series(y_train_res).value_counts())\n",
    "\n",
    "\n"
   ]
  },
  {
   "cell_type": "markdown",
   "metadata": {},
   "source": [
    "Treinando o modelo Random Forest:"
   ]
  },
  {
   "cell_type": "code",
   "execution_count": 200,
   "metadata": {},
   "outputs": [
    {
     "name": "stdout",
     "output_type": "stream",
     "text": [
      "Relatório de Classificação (Random Forest):\n",
      "              precision    recall  f1-score   support\n",
      "\n",
      "     Adotado       0.85      0.85      0.85      1742\n",
      "       Morto       0.29      0.14      0.19       172\n",
      " Eutanasiado       0.83      0.74      0.78      1772\n",
      "       Outro       0.50      0.12      0.20         8\n",
      " Transferido       0.89      0.93      0.91      6614\n",
      "\n",
      "    accuracy                           0.87     10308\n",
      "   macro avg       0.67      0.56      0.58     10308\n",
      "weighted avg       0.86      0.87      0.86     10308\n",
      "\n",
      "Matriz de Confusão (Random Forest):\n",
      "             Adotado  Morto  Eutanasiado  Outro  Transferido\n",
      "Adotado         1482      9            6      0          245\n",
      "Morto              8     24           46      0           94\n",
      "Eutanasiado       30     19         1304      0          419\n",
      "Outro              2      0            0      1            5\n",
      "Transferido      223     32          221      1         6137\n"
     ]
    }
   ],
   "source": [
    "from sklearn.ensemble import RandomForestClassifier\n",
    "from sklearn.metrics import classification_report, confusion_matrix\n",
    "import pandas as pd\n",
    "import numpy as np\n",
    "\n",
    "# Definir os rótulos personalizados\n",
    "target_names = ['Adotado', 'Morto', 'Eutanasiado', 'Outro', 'Transferido']\n",
    "\n",
    "# Treinar o modelo Random Forest com o conjunto de treino balanceado (após o SMOTE)\n",
    "rf_classifier = RandomForestClassifier(random_state=42)\n",
    "rf_classifier.fit(X_train_res, y_train_res)\n",
    "\n",
    "# Fazer previsões no conjunto de teste\n",
    "y_pred = rf_classifier.predict(X_test)\n",
    "\n",
    "# Exibir o relatório de classificação com os rótulos personalizados\n",
    "print(\"Relatório de Classificação (Random Forest):\")\n",
    "print(classification_report(y_test_combined, y_pred, target_names=target_names))\n",
    "\n",
    "# Exibir a matriz de confusão formatada com os rótulos personalizados\n",
    "print(\"Matriz de Confusão (Random Forest):\")\n",
    "conf_matrix = confusion_matrix(y_test_combined, y_pred)\n",
    "\n",
    "# Mostrar a matriz de confusão formatada com os rótulos personalizados para melhor visualização\n",
    "conf_matrix_df = pd.DataFrame(conf_matrix, index=target_names, columns=target_names)\n",
    "print(conf_matrix_df)\n"
   ]
  },
  {
   "cell_type": "markdown",
   "metadata": {},
   "source": [
    "Treinando o modelo SVM"
   ]
  },
  {
   "cell_type": "code",
   "execution_count": 201,
   "metadata": {},
   "outputs": [
    {
     "name": "stderr",
     "output_type": "stream",
     "text": [
      "C:\\Users\\julia\\AppData\\Local\\Temp\\ipykernel_24960\\2327386496.py:13: FutureWarning: Downcasting behavior in `replace` is deprecated and will be removed in a future version. To retain the old behavior, explicitly call `result.infer_objects(copy=False)`. To opt-in to the future behavior, set `pd.set_option('future.no_silent_downcasting', True)`\n",
      "  y_train_res_single = y_train_res.replace(label_mapping)\n"
     ]
    },
    {
     "name": "stdout",
     "output_type": "stream",
     "text": [
      "\n",
      "Relatório de Classificação (SVM):\n",
      "              precision    recall  f1-score   support\n",
      "\n",
      "     Adotado       0.79      0.87      0.83      1742\n",
      " Eutanasiado       0.74      0.74      0.74      1772\n",
      " Transferido       0.89      0.85      0.87      6614\n",
      "       Morto       0.10      0.20      0.13       172\n",
      "       Outro       0.33      0.25      0.29         8\n",
      "\n",
      "    accuracy                           0.82     10308\n",
      "   macro avg       0.57      0.58      0.57     10308\n",
      "weighted avg       0.84      0.82      0.83     10308\n",
      "\n",
      "\n",
      "Matriz de Confusão (SVM):\n",
      "             Adotado  Eutanasiado  Transferido  Morto  Outro\n",
      "Adotado         1508           19          196     18      1\n",
      "Eutanasiado       25         1315          396     36      0\n",
      "Transferido      360          383         5619    250      2\n",
      "Morto              5           57           75     34      1\n",
      "Outro              1            0            4      1      2\n"
     ]
    }
   ],
   "source": [
    "import pandas as pd\n",
    "\n",
    "# Mapeamento das classes para valores numéricos\n",
    "label_mapping = {\n",
    "    'outcome_type_Adoption       ': 0,\n",
    "    'outcome_type_Euthanasia     ': 1,\n",
    "    'outcome_type_Transfer       ': 2,\n",
    "    'outcome_type_Died           ': 3,\n",
    "    'outcome_type_Other': 4\n",
    "}\n",
    "\n",
    "# Aplicar o mapeamento no conjunto de treino\n",
    "y_train_res_single = y_train_res.replace(label_mapping)\n",
    "\n",
    "# Treinar o modelo SVM com o conjunto de treino balanceado (após o SMOTE)\n",
    "svm_model = SVC(random_state=42)\n",
    "svm_model.fit(X_train_res, y_train_res_single)\n",
    "\n",
    "# Fazer previsões no conjunto de teste\n",
    "y_pred_svm = svm_model.predict(X_test)\n",
    "\n",
    "# Avaliar o modelo SVM\n",
    "\n",
    "print(\"\\nRelatório de Classificação (SVM):\")\n",
    "print(classification_report(y_test_single, y_pred_svm, target_names=['Adotado', 'Eutanasiado', 'Transferido', 'Morto', 'Outro']))\n",
    "\n",
    "# Obter a matriz de confusão e exibi-la de forma organizada\n",
    "confusion_svm = confusion_matrix(y_test_single, y_pred_svm)\n",
    "\n",
    "# Criar um DataFrame para exibir a matriz de confusão de maneira organizada\n",
    "confusion_df_svm = pd.DataFrame(confusion_svm, index=['Adotado', 'Eutanasiado', 'Transferido', 'Morto', 'Outro'],\n",
    "                                columns=['Adotado', 'Eutanasiado', 'Transferido', 'Morto', 'Outro'])\n",
    "\n",
    "# Exibir a matriz de confusão organizada\n",
    "print(\"\\nMatriz de Confusão (SVM):\")\n",
    "print(confusion_df_svm)\n"
   ]
  },
  {
   "cell_type": "markdown",
   "metadata": {},
   "source": [
    "Treinando o modelo XGBoost"
   ]
  },
  {
   "cell_type": "code",
   "execution_count": 202,
   "metadata": {},
   "outputs": [
    {
     "name": "stdout",
     "output_type": "stream",
     "text": [
      "\n",
      "Relatório de Classificação (XGBoost):\n",
      "              precision    recall  f1-score   support\n",
      "\n",
      "     Adotado       0.86      0.84      0.85      1742\n",
      " Eutanasiado       0.87      0.73      0.79      1772\n",
      " Transferido       0.88      0.94      0.91      6614\n",
      "       Morto       0.33      0.13      0.18       172\n",
      "       Outro       0.25      0.12      0.17         8\n",
      "\n",
      "    accuracy                           0.87     10308\n",
      "   macro avg       0.64      0.55      0.58     10308\n",
      "weighted avg       0.87      0.87      0.87     10308\n",
      "\n",
      "Matriz de Confusão (XGBoost):\n",
      "             Adotado  Eutanasiado  Transferido  Morto  Outro\n",
      "Adotado         1470            3          266      3      0\n",
      "Eutanasiado       23         1295          439     15      0\n",
      "Transferido      215          157         6212     27      3\n",
      "Morto              8           42          100     22      0\n",
      "Outro              0            0            7      0      1\n"
     ]
    }
   ],
   "source": [
    "import xgboost as xgb\n",
    "from sklearn.metrics import classification_report, confusion_matrix\n",
    "\n",
    "# Inicializar o modelo XGBoost\n",
    "xgb_model = xgb.XGBClassifier(random_state=42)\n",
    "\n",
    "# Treinar o modelo XGBoost com o conjunto de treino balanceado (após o SMOTE)\n",
    "xgb_model.fit(X_train_res, y_train_res_single)\n",
    "\n",
    "# Fazer previsões no conjunto de teste\n",
    "y_pred_xgb = xgb_model.predict(X_test)\n",
    "\n",
    "# Avaliar o modelo XGBoost\n",
    "\n",
    "print(\"\\nRelatório de Classificação (XGBoost):\")\n",
    "print(classification_report(y_test_single, y_pred_xgb, target_names=['Adotado', 'Eutanasiado', 'Transferido', 'Morto', 'Outro']))\n",
    "\n",
    "# Exibir a matriz de confusão\n",
    "print(\"Matriz de Confusão (XGBoost):\")\n",
    "print(pd.DataFrame(confusion_matrix(y_test_single, y_pred_xgb), \n",
    "                   index=['Adotado', 'Eutanasiado', 'Transferido', 'Morto', 'Outro'], \n",
    "                   columns=['Adotado', 'Eutanasiado', 'Transferido', 'Morto', 'Outro']))\n"
   ]
  },
  {
   "cell_type": "markdown",
   "metadata": {},
   "source": [
    "Para validar se tá acontecendo overfitting, usaremos a técnica de Validação Cruzada (cross-validation).\n",
    "\n",
    "Os dados de treino serão divididos em K partes (ou \"folds\"). O modelo é treinado em K-1 partes e validado na parte restante, repetindo isso K vezes. O desempenho é então avaliado pela média dos resultados."
   ]
  },
  {
   "cell_type": "code",
   "execution_count": 204,
   "metadata": {},
   "outputs": [
    {
     "name": "stdout",
     "output_type": "stream",
     "text": [
      "\n",
      "Validação Cruzada para Random Forest\n",
      "Acurácia por fold na Validação Cruzada: [0.92248866 0.95994815 0.96966948 0.97148412 0.97407647]\n",
      "Média da Acurácia: 0.9595333765392093\n",
      "Desvio padrão: 0.019128751547727182\n",
      "\n",
      "Validação Cruzada para SVM\n",
      "Acurácia por fold na Validação Cruzada: [0.79157485 0.82559948 0.82838626 0.82845107 0.83596889]\n",
      "Média da Acurácia: 0.8219961114711601\n",
      "Desvio padrão: 0.01559600106676463\n",
      "\n",
      "Validação Cruzada para XGBoost\n",
      "Acurácia por fold na Validação Cruzada: [0.87990927 0.95191186 0.96824368 0.97012314 0.97051199]\n",
      "Média da Acurácia: 0.9481399870382372\n",
      "Desvio padrão: 0.03480684409770464\n"
     ]
    }
   ],
   "source": [
    "from sklearn.model_selection import cross_val_score\n",
    "import xgboost as xgb\n",
    "from sklearn.ensemble import RandomForestClassifier\n",
    "from sklearn.svm import SVC\n",
    "\n",
    "# Criar os modelos\n",
    "rf_model = RandomForestClassifier(random_state=42)\n",
    "svm_model = SVC(kernel='linear', random_state=42)\n",
    "xgb_model = xgb.XGBClassifier(random_state=42)\n",
    "\n",
    "# Lista para armazenar os modelos e seus nomes\n",
    "models = {\n",
    "    'Random Forest': rf_model,\n",
    "    'SVM': svm_model,\n",
    "    'XGBoost': xgb_model\n",
    "}\n",
    "\n",
    "# Loop para realizar a validação cruzada em cada modelo\n",
    "for model_name, model in models.items():\n",
    "    print(f\"\\nValidação Cruzada para {model_name}\")\n",
    "    \n",
    "    # Realizar a validação cruzada com 5 folds\n",
    "    cv_scores = cross_val_score(model, X_train_res, y_train_res_single, cv=5, scoring='accuracy')\n",
    "    \n",
    "    # Exibir os resultados\n",
    "    print(f\"Acurácia por fold na Validação Cruzada: {cv_scores}\")\n",
    "    print(f\"Média da Acurácia: {cv_scores.mean()}\")\n",
    "    print(f\"Desvio padrão: {cv_scores.std()}\")\n"
   ]
  },
  {
   "cell_type": "markdown",
   "metadata": {},
   "source": [
    "Com base nesses resultados, Random Forest é o melhor modelo para este conjunto de dados, oferecendo uma excelente combinação de alta acurácia e estabilidade (baixo desvio padrão). O XGBoost também é uma boa escolha, mas o Random Forest se destaca ligeiramente em termos de performance e consistência."
   ]
  },
  {
   "cell_type": "markdown",
   "metadata": {},
   "source": [
    "Curva de aprendizado do Random Forest"
   ]
  },
  {
   "cell_type": "code",
   "execution_count": 205,
   "metadata": {},
   "outputs": [
    {
     "data": {
      "image/png": "[encoded data removed]",
      "text/plain": [
       "<Figure size 640x480 with 1 Axes>"
      ]
     },
     "metadata": {},
     "output_type": "display_data"
    }
   ],
   "source": [
    "import matplotlib.pyplot as plt\n",
    "from sklearn.model_selection import learning_curve\n",
    "from sklearn.model_selection import StratifiedKFold\n",
    "\n",
    "# Definir o modelo Random Forest\n",
    "rf_classifier = RandomForestClassifier(random_state=42)\n",
    "\n",
    "# Definir o número de divisões para a validação cruzada\n",
    "cv = StratifiedKFold(n_splits=5)\n",
    "\n",
    "# Gerar os valores da curva de aprendizado\n",
    "train_sizes, train_scores, test_scores = learning_curve(\n",
    "    rf_classifier, X_train_res, y_train_res, cv=cv, scoring='accuracy', n_jobs=-1, train_sizes=np.linspace(0.1, 1.0, 10))\n",
    "\n",
    "# Calcular a média e desvio padrão das pontuações de treino e teste\n",
    "train_scores_mean = np.mean(train_scores, axis=1)\n",
    "train_scores_std = np.std(train_scores, axis=1)\n",
    "test_scores_mean = np.mean(test_scores, axis=1)\n",
    "test_scores_std = np.std(test_scores, axis=1)\n",
    "\n",
    "# Plotar a curva de aprendizado\n",
    "plt.figure()\n",
    "plt.title('Curva de Aprendizado - Random Forest')\n",
    "plt.xlabel('Tamanho do Conjunto de Treinamento')\n",
    "plt.ylabel('Acurácia')\n",
    "\n",
    "# Curva de treino\n",
    "plt.plot(train_sizes, train_scores_mean, 'o-', color='r', label='Acurácia no Treino')\n",
    "plt.fill_between(train_sizes, train_scores_mean - train_scores_std, train_scores_mean + train_scores_std, alpha=0.1, color='r')\n",
    "\n",
    "# Curva de teste/validação\n",
    "plt.plot(train_sizes, test_scores_mean, 'o-', color='g', label='Acurácia na Validação')\n",
    "plt.fill_between(train_sizes, test_scores_mean - test_scores_std, test_scores_mean + test_scores_std, alpha=0.1, color='g')\n",
    "\n",
    "# Exibir a legenda e o gráfico\n",
    "plt.legend(loc='best')\n",
    "plt.grid(True)\n",
    "plt.show()\n"
   ]
  },
  {
   "cell_type": "markdown",
   "metadata": {},
   "source": [
    "\n",
    "A curva de aprendizado do Random Forest mostra um ótimo desempenho do modelo conforme o tamanho do conjunto de treinamento aumenta. \n",
    "\n",
    "A linha vermelha indica a acurácia no conjunto de treino, que se mantém consistentemente alta, enquanto a linha verde mostra a acurácia no conjunto de validação, que também melhora gradualmente com mais dados de treino."
   ]
  },
  {
   "cell_type": "markdown",
   "metadata": {},
   "source": [
    "Visualização das Features Importance"
   ]
  },
  {
   "cell_type": "code",
   "execution_count": 210,
   "metadata": {},
   "outputs": [
    {
     "name": "stdout",
     "output_type": "stream",
     "text": [
      "15 Features mais importantes:\n",
      "                            Feature  Importance\n",
      "9       time_in_shelter_days_scaled    0.172290\n",
      "6   age_upon_outcome_(years)_scaled    0.060830\n",
      "5    age_upon_outcome_(days)_scaled    0.060533\n",
      "1     age_upon_intake_(days)_scaled    0.053293\n",
      "11   sex_upon_outcome_Intact Male      0.041827\n",
      "2    age_upon_intake_(years)_scaled    0.041705\n",
      "7              outcome_month_scaled    0.039568\n",
      "3               intake_month_scaled    0.038927\n",
      "0                   dob_year_scaled    0.037345\n",
      "8               outcome_year_scaled    0.034611\n",
      "4                intake_year_scaled    0.033194\n",
      "10   sex_upon_outcome_Intact Female    0.029446\n",
      "31   intake_type_Wildlife              0.023262\n",
      "13   sex_upon_outcome_Spayed Female    0.022788\n",
      "18                  animal_type_Oth    0.020637\n"
     ]
    },
    {
     "data": {
      "image/png": "[encoded data removed]",
      "text/plain": [
       "<Figure size 1000x600 with 1 Axes>"
      ]
     },
     "metadata": {},
     "output_type": "display_data"
    }
   ],
   "source": [
    "from sklearn.ensemble import RandomForestClassifier\n",
    "import matplotlib.pyplot as plt\n",
    "import pandas as pd\n",
    "\n",
    "# Treinar o modelo Random Forest com o conjunto de treino balanceado (após o SMOTE)\n",
    "rf_classifier = RandomForestClassifier(random_state=42)\n",
    "rf_classifier.fit(X_train_res, y_train_res)\n",
    "\n",
    "# Obter a importância das features a partir do modelo Random Forest\n",
    "feature_importances = rf_classifier.feature_importances_\n",
    "\n",
    "# Criar um DataFrame para exibir as features e suas importâncias\n",
    "feature_names = X_train.columns\n",
    "feature_importance_df = pd.DataFrame({\n",
    "    'Feature': feature_names,\n",
    "    'Importance': feature_importances\n",
    "}).sort_values(by='Importance', ascending=False)\n",
    "\n",
    "# Exibir as 10 features mais importantes\n",
    "print(\"15 Features mais importantes:\")\n",
    "print(feature_importance_df.head(15))\n",
    "\n",
    "# Visualizar a importância das features\n",
    "plt.figure(figsize=(10, 6))\n",
    "plt.barh(feature_importance_df['Feature'].head(15), feature_importance_df['Importance'].head(15))\n",
    "plt.xlabel('Importância')\n",
    "plt.ylabel('Feature')\n",
    "plt.title('Top 15 Features Importantes - Random Forest')\n",
    "plt.gca().invert_yaxis()  # Para exibir a barra mais importante no topo\n",
    "plt.show()\n"
   ]
  }
 ],
 "metadata": {
  "kernelspec": {
   "display_name": "env",
   "language": "python",
   "name": "python3"
  },
  "language_info": {
   "codemirror_mode": {
    "name": "ipython",
    "version": 3
   },
   "file_extension": ".py",
   "mimetype": "text/x-python",
   "name": "python",
   "nbconvert_exporter": "python",
   "pygments_lexer": "ipython3",
   "version": "3.12.1"
  }
 },
 "nbformat": 4,
 "nbformat_minor": 2
}
